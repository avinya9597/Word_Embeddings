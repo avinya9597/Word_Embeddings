{
  "nbformat": 4,
  "nbformat_minor": 0,
  "metadata": {
    "colab": {
      "provenance": []
    },
    "kernelspec": {
      "name": "python3",
      "display_name": "Python 3"
    },
    "language_info": {
      "name": "python"
    }
  },
  "cells": [
    {
      "cell_type": "code",
      "execution_count": 1,
      "metadata": {
        "id": "WUhFNnYAXkZ5",
        "colab": {
          "base_uri": "https://localhost:8080/"
        },
        "outputId": "75b19c7d-a4be-4a86-aa6b-787fa621a909"
      },
      "outputs": [
        {
          "output_type": "stream",
          "name": "stderr",
          "text": [
            "[nltk_data] Downloading package punkt to /root/nltk_data...\n",
            "[nltk_data]   Package punkt is already up-to-date!\n",
            "[nltk_data] Downloading package stopwords to /root/nltk_data...\n",
            "[nltk_data]   Package stopwords is already up-to-date!\n",
            "[nltk_data] Downloading package wordnet to /root/nltk_data...\n",
            "[nltk_data]   Package wordnet is already up-to-date!\n"
          ]
        },
        {
          "output_type": "execute_result",
          "data": {
            "text/plain": [
              "True"
            ]
          },
          "metadata": {},
          "execution_count": 1
        }
      ],
      "source": [
        "import numpy as np\n",
        "import matplotlib.pyplot as plt\n",
        "import pandas as pd\n",
        "import re\n",
        "import string\n",
        "import nltk\n",
        "nltk.download('punkt')\n",
        "#stopwords.remove(\"not\")\n",
        "from nltk.corpus import stopwords\n",
        "from nltk.tokenize import word_tokenize\n",
        "from nltk.stem import WordNetLemmatizer\n",
        "wn = nltk.WordNetLemmatizer()\n",
        "nltk.download('stopwords')\n"
      ]
    },
    {
      "cell_type": "code",
      "source": [
        "df = pd.read_csv('/content/FinalData.csv')"
      ],
      "metadata": {
        "id": "101QMj9GgA51"
      },
      "execution_count": 2,
      "outputs": []
    },
    {
      "cell_type": "code",
      "source": [
        "df.sample(frac=1).head()"
      ],
      "metadata": {
        "colab": {
          "base_uri": "https://localhost:8080/",
          "height": 206
        },
        "id": "dJ5Xs445gPgz",
        "outputId": "26ff3e19-335f-43cc-d933-1a21a4851872"
      },
      "execution_count": 3,
      "outputs": [
        {
          "output_type": "execute_result",
          "data": {
            "text/plain": [
              "          Label                                        Description\n",
              "113          ai  Google is bringing its ChatGPT-style chatbot B...\n",
              "325   economics  E. Tammy Kim on the Japanese philosopher Kohei...\n",
              "257  technology  The Democratic senator from Hawaii explains wh...\n",
              "34    recession  Strategists say investors should still âstay...\n",
              "79    recession  Stocks are poised to disappoint, recession ala..."
            ],
            "text/html": [
              "\n",
              "  <div id=\"df-a85e3dca-2e8b-4613-b0b4-d432cfc83532\" class=\"colab-df-container\">\n",
              "    <div>\n",
              "<style scoped>\n",
              "    .dataframe tbody tr th:only-of-type {\n",
              "        vertical-align: middle;\n",
              "    }\n",
              "\n",
              "    .dataframe tbody tr th {\n",
              "        vertical-align: top;\n",
              "    }\n",
              "\n",
              "    .dataframe thead th {\n",
              "        text-align: right;\n",
              "    }\n",
              "</style>\n",
              "<table border=\"1\" class=\"dataframe\">\n",
              "  <thead>\n",
              "    <tr style=\"text-align: right;\">\n",
              "      <th></th>\n",
              "      <th>Label</th>\n",
              "      <th>Description</th>\n",
              "    </tr>\n",
              "  </thead>\n",
              "  <tbody>\n",
              "    <tr>\n",
              "      <th>113</th>\n",
              "      <td>ai</td>\n",
              "      <td>Google is bringing its ChatGPT-style chatbot B...</td>\n",
              "    </tr>\n",
              "    <tr>\n",
              "      <th>325</th>\n",
              "      <td>economics</td>\n",
              "      <td>E. Tammy Kim on the Japanese philosopher Kohei...</td>\n",
              "    </tr>\n",
              "    <tr>\n",
              "      <th>257</th>\n",
              "      <td>technology</td>\n",
              "      <td>The Democratic senator from Hawaii explains wh...</td>\n",
              "    </tr>\n",
              "    <tr>\n",
              "      <th>34</th>\n",
              "      <td>recession</td>\n",
              "      <td>Strategists say investors should still âstay...</td>\n",
              "    </tr>\n",
              "    <tr>\n",
              "      <th>79</th>\n",
              "      <td>recession</td>\n",
              "      <td>Stocks are poised to disappoint, recession ala...</td>\n",
              "    </tr>\n",
              "  </tbody>\n",
              "</table>\n",
              "</div>\n",
              "    <div class=\"colab-df-buttons\">\n",
              "\n",
              "  <div class=\"colab-df-container\">\n",
              "    <button class=\"colab-df-convert\" onclick=\"convertToInteractive('df-a85e3dca-2e8b-4613-b0b4-d432cfc83532')\"\n",
              "            title=\"Convert this dataframe to an interactive table.\"\n",
              "            style=\"display:none;\">\n",
              "\n",
              "  <svg xmlns=\"http://www.w3.org/2000/svg\" height=\"24px\" viewBox=\"0 -960 960 960\">\n",
              "    <path d=\"M120-120v-720h720v720H120Zm60-500h600v-160H180v160Zm220 220h160v-160H400v160Zm0 220h160v-160H400v160ZM180-400h160v-160H180v160Zm440 0h160v-160H620v160ZM180-180h160v-160H180v160Zm440 0h160v-160H620v160Z\"/>\n",
              "  </svg>\n",
              "    </button>\n",
              "\n",
              "  <style>\n",
              "    .colab-df-container {\n",
              "      display:flex;\n",
              "      gap: 12px;\n",
              "    }\n",
              "\n",
              "    .colab-df-convert {\n",
              "      background-color: #E8F0FE;\n",
              "      border: none;\n",
              "      border-radius: 50%;\n",
              "      cursor: pointer;\n",
              "      display: none;\n",
              "      fill: #1967D2;\n",
              "      height: 32px;\n",
              "      padding: 0 0 0 0;\n",
              "      width: 32px;\n",
              "    }\n",
              "\n",
              "    .colab-df-convert:hover {\n",
              "      background-color: #E2EBFA;\n",
              "      box-shadow: 0px 1px 2px rgba(60, 64, 67, 0.3), 0px 1px 3px 1px rgba(60, 64, 67, 0.15);\n",
              "      fill: #174EA6;\n",
              "    }\n",
              "\n",
              "    .colab-df-buttons div {\n",
              "      margin-bottom: 4px;\n",
              "    }\n",
              "\n",
              "    [theme=dark] .colab-df-convert {\n",
              "      background-color: #3B4455;\n",
              "      fill: #D2E3FC;\n",
              "    }\n",
              "\n",
              "    [theme=dark] .colab-df-convert:hover {\n",
              "      background-color: #434B5C;\n",
              "      box-shadow: 0px 1px 3px 1px rgba(0, 0, 0, 0.15);\n",
              "      filter: drop-shadow(0px 1px 2px rgba(0, 0, 0, 0.3));\n",
              "      fill: #FFFFFF;\n",
              "    }\n",
              "  </style>\n",
              "\n",
              "    <script>\n",
              "      const buttonEl =\n",
              "        document.querySelector('#df-a85e3dca-2e8b-4613-b0b4-d432cfc83532 button.colab-df-convert');\n",
              "      buttonEl.style.display =\n",
              "        google.colab.kernel.accessAllowed ? 'block' : 'none';\n",
              "\n",
              "      async function convertToInteractive(key) {\n",
              "        const element = document.querySelector('#df-a85e3dca-2e8b-4613-b0b4-d432cfc83532');\n",
              "        const dataTable =\n",
              "          await google.colab.kernel.invokeFunction('convertToInteractive',\n",
              "                                                    [key], {});\n",
              "        if (!dataTable) return;\n",
              "\n",
              "        const docLinkHtml = 'Like what you see? Visit the ' +\n",
              "          '<a target=\"_blank\" href=https://colab.research.google.com/notebooks/data_table.ipynb>data table notebook</a>'\n",
              "          + ' to learn more about interactive tables.';\n",
              "        element.innerHTML = '';\n",
              "        dataTable['output_type'] = 'display_data';\n",
              "        await google.colab.output.renderOutput(dataTable, element);\n",
              "        const docLink = document.createElement('div');\n",
              "        docLink.innerHTML = docLinkHtml;\n",
              "        element.appendChild(docLink);\n",
              "      }\n",
              "    </script>\n",
              "  </div>\n",
              "\n",
              "\n",
              "<div id=\"df-62faa1fd-6f47-43df-94c3-df9451f4b282\">\n",
              "  <button class=\"colab-df-quickchart\" onclick=\"quickchart('df-62faa1fd-6f47-43df-94c3-df9451f4b282')\"\n",
              "            title=\"Suggest charts\"\n",
              "            style=\"display:none;\">\n",
              "\n",
              "<svg xmlns=\"http://www.w3.org/2000/svg\" height=\"24px\"viewBox=\"0 0 24 24\"\n",
              "     width=\"24px\">\n",
              "    <g>\n",
              "        <path d=\"M19 3H5c-1.1 0-2 .9-2 2v14c0 1.1.9 2 2 2h14c1.1 0 2-.9 2-2V5c0-1.1-.9-2-2-2zM9 17H7v-7h2v7zm4 0h-2V7h2v10zm4 0h-2v-4h2v4z\"/>\n",
              "    </g>\n",
              "</svg>\n",
              "  </button>\n",
              "\n",
              "<style>\n",
              "  .colab-df-quickchart {\n",
              "      --bg-color: #E8F0FE;\n",
              "      --fill-color: #1967D2;\n",
              "      --hover-bg-color: #E2EBFA;\n",
              "      --hover-fill-color: #174EA6;\n",
              "      --disabled-fill-color: #AAA;\n",
              "      --disabled-bg-color: #DDD;\n",
              "  }\n",
              "\n",
              "  [theme=dark] .colab-df-quickchart {\n",
              "      --bg-color: #3B4455;\n",
              "      --fill-color: #D2E3FC;\n",
              "      --hover-bg-color: #434B5C;\n",
              "      --hover-fill-color: #FFFFFF;\n",
              "      --disabled-bg-color: #3B4455;\n",
              "      --disabled-fill-color: #666;\n",
              "  }\n",
              "\n",
              "  .colab-df-quickchart {\n",
              "    background-color: var(--bg-color);\n",
              "    border: none;\n",
              "    border-radius: 50%;\n",
              "    cursor: pointer;\n",
              "    display: none;\n",
              "    fill: var(--fill-color);\n",
              "    height: 32px;\n",
              "    padding: 0;\n",
              "    width: 32px;\n",
              "  }\n",
              "\n",
              "  .colab-df-quickchart:hover {\n",
              "    background-color: var(--hover-bg-color);\n",
              "    box-shadow: 0 1px 2px rgba(60, 64, 67, 0.3), 0 1px 3px 1px rgba(60, 64, 67, 0.15);\n",
              "    fill: var(--button-hover-fill-color);\n",
              "  }\n",
              "\n",
              "  .colab-df-quickchart-complete:disabled,\n",
              "  .colab-df-quickchart-complete:disabled:hover {\n",
              "    background-color: var(--disabled-bg-color);\n",
              "    fill: var(--disabled-fill-color);\n",
              "    box-shadow: none;\n",
              "  }\n",
              "\n",
              "  .colab-df-spinner {\n",
              "    border: 2px solid var(--fill-color);\n",
              "    border-color: transparent;\n",
              "    border-bottom-color: var(--fill-color);\n",
              "    animation:\n",
              "      spin 1s steps(1) infinite;\n",
              "  }\n",
              "\n",
              "  @keyframes spin {\n",
              "    0% {\n",
              "      border-color: transparent;\n",
              "      border-bottom-color: var(--fill-color);\n",
              "      border-left-color: var(--fill-color);\n",
              "    }\n",
              "    20% {\n",
              "      border-color: transparent;\n",
              "      border-left-color: var(--fill-color);\n",
              "      border-top-color: var(--fill-color);\n",
              "    }\n",
              "    30% {\n",
              "      border-color: transparent;\n",
              "      border-left-color: var(--fill-color);\n",
              "      border-top-color: var(--fill-color);\n",
              "      border-right-color: var(--fill-color);\n",
              "    }\n",
              "    40% {\n",
              "      border-color: transparent;\n",
              "      border-right-color: var(--fill-color);\n",
              "      border-top-color: var(--fill-color);\n",
              "    }\n",
              "    60% {\n",
              "      border-color: transparent;\n",
              "      border-right-color: var(--fill-color);\n",
              "    }\n",
              "    80% {\n",
              "      border-color: transparent;\n",
              "      border-right-color: var(--fill-color);\n",
              "      border-bottom-color: var(--fill-color);\n",
              "    }\n",
              "    90% {\n",
              "      border-color: transparent;\n",
              "      border-bottom-color: var(--fill-color);\n",
              "    }\n",
              "  }\n",
              "</style>\n",
              "\n",
              "  <script>\n",
              "    async function quickchart(key) {\n",
              "      const quickchartButtonEl =\n",
              "        document.querySelector('#' + key + ' button');\n",
              "      quickchartButtonEl.disabled = true;  // To prevent multiple clicks.\n",
              "      quickchartButtonEl.classList.add('colab-df-spinner');\n",
              "      try {\n",
              "        const charts = await google.colab.kernel.invokeFunction(\n",
              "            'suggestCharts', [key], {});\n",
              "      } catch (error) {\n",
              "        console.error('Error during call to suggestCharts:', error);\n",
              "      }\n",
              "      quickchartButtonEl.classList.remove('colab-df-spinner');\n",
              "      quickchartButtonEl.classList.add('colab-df-quickchart-complete');\n",
              "    }\n",
              "    (() => {\n",
              "      let quickchartButtonEl =\n",
              "        document.querySelector('#df-62faa1fd-6f47-43df-94c3-df9451f4b282 button');\n",
              "      quickchartButtonEl.style.display =\n",
              "        google.colab.kernel.accessAllowed ? 'block' : 'none';\n",
              "    })();\n",
              "  </script>\n",
              "</div>\n",
              "    </div>\n",
              "  </div>\n"
            ],
            "application/vnd.google.colaboratory.intrinsic+json": {
              "type": "dataframe",
              "summary": "{\n  \"name\": \"df\",\n  \"rows\": 5,\n  \"fields\": [\n    {\n      \"column\": \"Label\",\n      \"properties\": {\n        \"dtype\": \"string\",\n        \"num_unique_values\": 4,\n        \"samples\": [\n          \"economics\",\n          \"recession\",\n          \"ai\"\n        ],\n        \"semantic_type\": \"\",\n        \"description\": \"\"\n      }\n    },\n    {\n      \"column\": \"Description\",\n      \"properties\": {\n        \"dtype\": \"string\",\n        \"num_unique_values\": 5,\n        \"samples\": [\n          \"E. Tammy Kim on the Japanese philosopher Kohei Saito\\u00e2\\u0080\\u0099s book \\u00e2\\u0080\\u009cSlow Down: The Degrowth Manifesto,\\u00e2\\u0080\\u009d which makes the case for communism as a climate-change solution.\",\n          \"Stocks are poised to disappoint, recession alarms are flashing, and speculation is rife in tech and crypto, says market prophet Gary Shilling.\",\n          \"The Democratic senator from Hawaii explains why KOSA won\\u00e2\\u0080\\u0099t lead to harmful speech restrictions.\"\n        ],\n        \"semantic_type\": \"\",\n        \"description\": \"\"\n      }\n    }\n  ]\n}"
            }
          },
          "metadata": {},
          "execution_count": 3
        }
      ]
    },
    {
      "cell_type": "code",
      "source": [
        "df.isnull().sum()"
      ],
      "metadata": {
        "colab": {
          "base_uri": "https://localhost:8080/"
        },
        "id": "55BqWpnPp2OS",
        "outputId": "ae25bd13-ed74-4749-a96b-71e9d2f1b944"
      },
      "execution_count": 4,
      "outputs": [
        {
          "output_type": "execute_result",
          "data": {
            "text/plain": [
              "Label          0\n",
              "Description    2\n",
              "dtype: int64"
            ]
          },
          "metadata": {},
          "execution_count": 4
        }
      ]
    },
    {
      "cell_type": "code",
      "source": [
        "df.shape"
      ],
      "metadata": {
        "colab": {
          "base_uri": "https://localhost:8080/"
        },
        "id": "V4jJGsr3qu_k",
        "outputId": "db5e47e4-2a59-4e8c-9bea-63c78e718c2c"
      },
      "execution_count": 5,
      "outputs": [
        {
          "output_type": "execute_result",
          "data": {
            "text/plain": [
              "(396, 2)"
            ]
          },
          "metadata": {},
          "execution_count": 5
        }
      ]
    },
    {
      "cell_type": "code",
      "source": [
        "df.dropna(inplace=True)"
      ],
      "metadata": {
        "id": "kUIi-qkkp4rs"
      },
      "execution_count": 6,
      "outputs": []
    },
    {
      "cell_type": "markdown",
      "source": [
        "## Data Cleaning : Text Preprocessing\n",
        "\n",
        "###Remove punctuations, stopwords\n",
        "---\n",
        "\n"
      ],
      "metadata": {
        "id": "yyh9HMV1q4E4"
      }
    },
    {
      "cell_type": "code",
      "source": [
        "from gensim.parsing.preprocessing import remove_stopwords, STOPWORDS\n",
        "def remove_punct(text):\n",
        "    text  = \"\".join([char for char in text if char not in string.punctuation])\n",
        "    text = re.sub('[0-9]+', '', text)\n",
        "    return text\n",
        "\n",
        "def tokenization(text):\n",
        "    text = re.split('\\W+', text)\n",
        "    return text\n",
        "\n",
        "def remove_stopwords(text):\n",
        "    text = [word for word in text if word not in STOPWORDS]\n",
        "    return text\n",
        "\n",
        "def lemmatizer(text):\n",
        "    text = [wn.lemmatize(word) for word in text]\n",
        "    return text\n",
        "\n",
        "ps = nltk.PorterStemmer()\n",
        "\n",
        "def stemming(text):\n",
        "    text = [ps.stem(word) for word in text]\n",
        "    return text"
      ],
      "metadata": {
        "id": "aQkNcsYwmwBZ"
      },
      "execution_count": 7,
      "outputs": []
    },
    {
      "cell_type": "code",
      "source": [
        "df['quote_punct_removed'] = df['Description'].apply(lambda x: remove_punct(x))\n",
        "df[\"quote_tokenized\"] = df[\"Description\"].apply(lambda x: tokenization(x))\n",
        "df[\"quote_stop_word\"] = df[\"quote_tokenized\"].apply(lambda x: remove_stopwords(x))\n",
        "df[\"quotes_cleaned\"] = df[\"quote_stop_word\"].apply(lambda x: \" \".join(x))"
      ],
      "metadata": {
        "id": "r3L4cxgnpft2"
      },
      "execution_count": 8,
      "outputs": []
    },
    {
      "cell_type": "code",
      "source": [
        "df.head(2)"
      ],
      "metadata": {
        "colab": {
          "base_uri": "https://localhost:8080/",
          "height": 146
        },
        "id": "DO-KzL72qQfQ",
        "outputId": "b42321f6-0150-4594-8eef-db482775ccf4"
      },
      "execution_count": 9,
      "outputs": [
        {
          "output_type": "execute_result",
          "data": {
            "text/plain": [
              "       Label                                        Description  \\\n",
              "0  recession  \"The longer rates stay high, the more the Fed ...   \n",
              "1  recession  With the economy looming large in the 2024 ele...   \n",
              "\n",
              "                                 quote_punct_removed  \\\n",
              "0  The longer rates stay high the more the Fed ri...   \n",
              "1  With the economy looming large in the  electio...   \n",
              "\n",
              "                                     quote_tokenized  \\\n",
              "0  [, The, longer, rates, stay, high, the, more, ...   \n",
              "1  [With, the, economy, looming, large, in, the, ...   \n",
              "\n",
              "                                     quote_stop_word  \\\n",
              "0  [, The, longer, rates, stay, high, Fed, risks,...   \n",
              "1  [With, economy, looming, large, 2024, election...   \n",
              "\n",
              "                                      quotes_cleaned  \n",
              "0   The longer rates stay high Fed risks seriousl...  \n",
              "1  With economy looming large 2024 election Treas...  "
            ],
            "text/html": [
              "\n",
              "  <div id=\"df-7d4669b7-2823-4816-801b-4da90e65f1a1\" class=\"colab-df-container\">\n",
              "    <div>\n",
              "<style scoped>\n",
              "    .dataframe tbody tr th:only-of-type {\n",
              "        vertical-align: middle;\n",
              "    }\n",
              "\n",
              "    .dataframe tbody tr th {\n",
              "        vertical-align: top;\n",
              "    }\n",
              "\n",
              "    .dataframe thead th {\n",
              "        text-align: right;\n",
              "    }\n",
              "</style>\n",
              "<table border=\"1\" class=\"dataframe\">\n",
              "  <thead>\n",
              "    <tr style=\"text-align: right;\">\n",
              "      <th></th>\n",
              "      <th>Label</th>\n",
              "      <th>Description</th>\n",
              "      <th>quote_punct_removed</th>\n",
              "      <th>quote_tokenized</th>\n",
              "      <th>quote_stop_word</th>\n",
              "      <th>quotes_cleaned</th>\n",
              "    </tr>\n",
              "  </thead>\n",
              "  <tbody>\n",
              "    <tr>\n",
              "      <th>0</th>\n",
              "      <td>recession</td>\n",
              "      <td>\"The longer rates stay high, the more the Fed ...</td>\n",
              "      <td>The longer rates stay high the more the Fed ri...</td>\n",
              "      <td>[, The, longer, rates, stay, high, the, more, ...</td>\n",
              "      <td>[, The, longer, rates, stay, high, Fed, risks,...</td>\n",
              "      <td>The longer rates stay high Fed risks seriousl...</td>\n",
              "    </tr>\n",
              "    <tr>\n",
              "      <th>1</th>\n",
              "      <td>recession</td>\n",
              "      <td>With the economy looming large in the 2024 ele...</td>\n",
              "      <td>With the economy looming large in the  electio...</td>\n",
              "      <td>[With, the, economy, looming, large, in, the, ...</td>\n",
              "      <td>[With, economy, looming, large, 2024, election...</td>\n",
              "      <td>With economy looming large 2024 election Treas...</td>\n",
              "    </tr>\n",
              "  </tbody>\n",
              "</table>\n",
              "</div>\n",
              "    <div class=\"colab-df-buttons\">\n",
              "\n",
              "  <div class=\"colab-df-container\">\n",
              "    <button class=\"colab-df-convert\" onclick=\"convertToInteractive('df-7d4669b7-2823-4816-801b-4da90e65f1a1')\"\n",
              "            title=\"Convert this dataframe to an interactive table.\"\n",
              "            style=\"display:none;\">\n",
              "\n",
              "  <svg xmlns=\"http://www.w3.org/2000/svg\" height=\"24px\" viewBox=\"0 -960 960 960\">\n",
              "    <path d=\"M120-120v-720h720v720H120Zm60-500h600v-160H180v160Zm220 220h160v-160H400v160Zm0 220h160v-160H400v160ZM180-400h160v-160H180v160Zm440 0h160v-160H620v160ZM180-180h160v-160H180v160Zm440 0h160v-160H620v160Z\"/>\n",
              "  </svg>\n",
              "    </button>\n",
              "\n",
              "  <style>\n",
              "    .colab-df-container {\n",
              "      display:flex;\n",
              "      gap: 12px;\n",
              "    }\n",
              "\n",
              "    .colab-df-convert {\n",
              "      background-color: #E8F0FE;\n",
              "      border: none;\n",
              "      border-radius: 50%;\n",
              "      cursor: pointer;\n",
              "      display: none;\n",
              "      fill: #1967D2;\n",
              "      height: 32px;\n",
              "      padding: 0 0 0 0;\n",
              "      width: 32px;\n",
              "    }\n",
              "\n",
              "    .colab-df-convert:hover {\n",
              "      background-color: #E2EBFA;\n",
              "      box-shadow: 0px 1px 2px rgba(60, 64, 67, 0.3), 0px 1px 3px 1px rgba(60, 64, 67, 0.15);\n",
              "      fill: #174EA6;\n",
              "    }\n",
              "\n",
              "    .colab-df-buttons div {\n",
              "      margin-bottom: 4px;\n",
              "    }\n",
              "\n",
              "    [theme=dark] .colab-df-convert {\n",
              "      background-color: #3B4455;\n",
              "      fill: #D2E3FC;\n",
              "    }\n",
              "\n",
              "    [theme=dark] .colab-df-convert:hover {\n",
              "      background-color: #434B5C;\n",
              "      box-shadow: 0px 1px 3px 1px rgba(0, 0, 0, 0.15);\n",
              "      filter: drop-shadow(0px 1px 2px rgba(0, 0, 0, 0.3));\n",
              "      fill: #FFFFFF;\n",
              "    }\n",
              "  </style>\n",
              "\n",
              "    <script>\n",
              "      const buttonEl =\n",
              "        document.querySelector('#df-7d4669b7-2823-4816-801b-4da90e65f1a1 button.colab-df-convert');\n",
              "      buttonEl.style.display =\n",
              "        google.colab.kernel.accessAllowed ? 'block' : 'none';\n",
              "\n",
              "      async function convertToInteractive(key) {\n",
              "        const element = document.querySelector('#df-7d4669b7-2823-4816-801b-4da90e65f1a1');\n",
              "        const dataTable =\n",
              "          await google.colab.kernel.invokeFunction('convertToInteractive',\n",
              "                                                    [key], {});\n",
              "        if (!dataTable) return;\n",
              "\n",
              "        const docLinkHtml = 'Like what you see? Visit the ' +\n",
              "          '<a target=\"_blank\" href=https://colab.research.google.com/notebooks/data_table.ipynb>data table notebook</a>'\n",
              "          + ' to learn more about interactive tables.';\n",
              "        element.innerHTML = '';\n",
              "        dataTable['output_type'] = 'display_data';\n",
              "        await google.colab.output.renderOutput(dataTable, element);\n",
              "        const docLink = document.createElement('div');\n",
              "        docLink.innerHTML = docLinkHtml;\n",
              "        element.appendChild(docLink);\n",
              "      }\n",
              "    </script>\n",
              "  </div>\n",
              "\n",
              "\n",
              "<div id=\"df-dfe40dbc-f6f9-4870-8ada-155a8df42cf5\">\n",
              "  <button class=\"colab-df-quickchart\" onclick=\"quickchart('df-dfe40dbc-f6f9-4870-8ada-155a8df42cf5')\"\n",
              "            title=\"Suggest charts\"\n",
              "            style=\"display:none;\">\n",
              "\n",
              "<svg xmlns=\"http://www.w3.org/2000/svg\" height=\"24px\"viewBox=\"0 0 24 24\"\n",
              "     width=\"24px\">\n",
              "    <g>\n",
              "        <path d=\"M19 3H5c-1.1 0-2 .9-2 2v14c0 1.1.9 2 2 2h14c1.1 0 2-.9 2-2V5c0-1.1-.9-2-2-2zM9 17H7v-7h2v7zm4 0h-2V7h2v10zm4 0h-2v-4h2v4z\"/>\n",
              "    </g>\n",
              "</svg>\n",
              "  </button>\n",
              "\n",
              "<style>\n",
              "  .colab-df-quickchart {\n",
              "      --bg-color: #E8F0FE;\n",
              "      --fill-color: #1967D2;\n",
              "      --hover-bg-color: #E2EBFA;\n",
              "      --hover-fill-color: #174EA6;\n",
              "      --disabled-fill-color: #AAA;\n",
              "      --disabled-bg-color: #DDD;\n",
              "  }\n",
              "\n",
              "  [theme=dark] .colab-df-quickchart {\n",
              "      --bg-color: #3B4455;\n",
              "      --fill-color: #D2E3FC;\n",
              "      --hover-bg-color: #434B5C;\n",
              "      --hover-fill-color: #FFFFFF;\n",
              "      --disabled-bg-color: #3B4455;\n",
              "      --disabled-fill-color: #666;\n",
              "  }\n",
              "\n",
              "  .colab-df-quickchart {\n",
              "    background-color: var(--bg-color);\n",
              "    border: none;\n",
              "    border-radius: 50%;\n",
              "    cursor: pointer;\n",
              "    display: none;\n",
              "    fill: var(--fill-color);\n",
              "    height: 32px;\n",
              "    padding: 0;\n",
              "    width: 32px;\n",
              "  }\n",
              "\n",
              "  .colab-df-quickchart:hover {\n",
              "    background-color: var(--hover-bg-color);\n",
              "    box-shadow: 0 1px 2px rgba(60, 64, 67, 0.3), 0 1px 3px 1px rgba(60, 64, 67, 0.15);\n",
              "    fill: var(--button-hover-fill-color);\n",
              "  }\n",
              "\n",
              "  .colab-df-quickchart-complete:disabled,\n",
              "  .colab-df-quickchart-complete:disabled:hover {\n",
              "    background-color: var(--disabled-bg-color);\n",
              "    fill: var(--disabled-fill-color);\n",
              "    box-shadow: none;\n",
              "  }\n",
              "\n",
              "  .colab-df-spinner {\n",
              "    border: 2px solid var(--fill-color);\n",
              "    border-color: transparent;\n",
              "    border-bottom-color: var(--fill-color);\n",
              "    animation:\n",
              "      spin 1s steps(1) infinite;\n",
              "  }\n",
              "\n",
              "  @keyframes spin {\n",
              "    0% {\n",
              "      border-color: transparent;\n",
              "      border-bottom-color: var(--fill-color);\n",
              "      border-left-color: var(--fill-color);\n",
              "    }\n",
              "    20% {\n",
              "      border-color: transparent;\n",
              "      border-left-color: var(--fill-color);\n",
              "      border-top-color: var(--fill-color);\n",
              "    }\n",
              "    30% {\n",
              "      border-color: transparent;\n",
              "      border-left-color: var(--fill-color);\n",
              "      border-top-color: var(--fill-color);\n",
              "      border-right-color: var(--fill-color);\n",
              "    }\n",
              "    40% {\n",
              "      border-color: transparent;\n",
              "      border-right-color: var(--fill-color);\n",
              "      border-top-color: var(--fill-color);\n",
              "    }\n",
              "    60% {\n",
              "      border-color: transparent;\n",
              "      border-right-color: var(--fill-color);\n",
              "    }\n",
              "    80% {\n",
              "      border-color: transparent;\n",
              "      border-right-color: var(--fill-color);\n",
              "      border-bottom-color: var(--fill-color);\n",
              "    }\n",
              "    90% {\n",
              "      border-color: transparent;\n",
              "      border-bottom-color: var(--fill-color);\n",
              "    }\n",
              "  }\n",
              "</style>\n",
              "\n",
              "  <script>\n",
              "    async function quickchart(key) {\n",
              "      const quickchartButtonEl =\n",
              "        document.querySelector('#' + key + ' button');\n",
              "      quickchartButtonEl.disabled = true;  // To prevent multiple clicks.\n",
              "      quickchartButtonEl.classList.add('colab-df-spinner');\n",
              "      try {\n",
              "        const charts = await google.colab.kernel.invokeFunction(\n",
              "            'suggestCharts', [key], {});\n",
              "      } catch (error) {\n",
              "        console.error('Error during call to suggestCharts:', error);\n",
              "      }\n",
              "      quickchartButtonEl.classList.remove('colab-df-spinner');\n",
              "      quickchartButtonEl.classList.add('colab-df-quickchart-complete');\n",
              "    }\n",
              "    (() => {\n",
              "      let quickchartButtonEl =\n",
              "        document.querySelector('#df-dfe40dbc-f6f9-4870-8ada-155a8df42cf5 button');\n",
              "      quickchartButtonEl.style.display =\n",
              "        google.colab.kernel.accessAllowed ? 'block' : 'none';\n",
              "    })();\n",
              "  </script>\n",
              "</div>\n",
              "    </div>\n",
              "  </div>\n"
            ],
            "application/vnd.google.colaboratory.intrinsic+json": {
              "type": "dataframe",
              "variable_name": "df",
              "summary": "{\n  \"name\": \"df\",\n  \"rows\": 394,\n  \"fields\": [\n    {\n      \"column\": \"Label\",\n      \"properties\": {\n        \"dtype\": \"category\",\n        \"num_unique_values\": 4,\n        \"samples\": [\n          \"ai\",\n          \"economics\",\n          \"recession\"\n        ],\n        \"semantic_type\": \"\",\n        \"description\": \"\"\n      }\n    },\n    {\n      \"column\": \"Description\",\n      \"properties\": {\n        \"dtype\": \"string\",\n        \"num_unique_values\": 345,\n        \"samples\": [\n          \"OnePlus\\u00e2\\u0080\\u0099 new $800 Android phone has all the specs you\\u00e2\\u0080\\u0099d want, and looks very polished to boot.\",\n          \"Yelp just released a substantial app update with more than 20 new features, and several of these tools are packed with, wait for it, AI. The biggest news for regular users is the addition of summaries of business automatically written by AI, which Yelp says w\\u00e2\\u0080\\u00a6\",\n          \"Apple engineers deal with a lot of confidential information, but leaking those secrets could land you in jail. Xiaolang Zhang was sentenced to 120 days in prison this week after being convicted of stealing Apple\\u00e2\\u0080\\u0099s self-driving car technology, according to Cal\\u00e2\\u0080\\u00a6\"\n        ],\n        \"semantic_type\": \"\",\n        \"description\": \"\"\n      }\n    },\n    {\n      \"column\": \"quote_punct_removed\",\n      \"properties\": {\n        \"dtype\": \"string\",\n        \"num_unique_values\": 344,\n        \"samples\": [\n          \"OnePlus\\u00e2\\u0080\\u0099 new  Android phone has all the specs you\\u00e2\\u0080\\u0099d want and looks very polished to boot\",\n          \"Yelp just released a substantial app update with more than  new features and several of these tools are packed with wait for it AI The biggest news for regular users is the addition of summaries of business automatically written by AI which Yelp says w\\u00e2\\u0080\\u00a6\",\n          \"Apple engineers deal with a lot of confidential information but leaking those secrets could land you in jail Xiaolang Zhang was sentenced to  days in prison this week after being convicted of stealing Apple\\u00e2\\u0080\\u0099s selfdriving car technology according to Cal\\u00e2\\u0080\\u00a6\"\n        ],\n        \"semantic_type\": \"\",\n        \"description\": \"\"\n      }\n    },\n    {\n      \"column\": \"quote_tokenized\",\n      \"properties\": {\n        \"dtype\": \"object\",\n        \"semantic_type\": \"\",\n        \"description\": \"\"\n      }\n    },\n    {\n      \"column\": \"quote_stop_word\",\n      \"properties\": {\n        \"dtype\": \"object\",\n        \"semantic_type\": \"\",\n        \"description\": \"\"\n      }\n    },\n    {\n      \"column\": \"quotes_cleaned\",\n      \"properties\": {\n        \"dtype\": \"string\",\n        \"num_unique_values\": 345,\n        \"samples\": [\n          \"OnePlus\\u00e2 new 800 Android phone specs you\\u00e2 d want looks polished boot \",\n          \"Yelp released substantial app update 20 new features tools packed wait AI The biggest news regular users addition summaries business automatically written AI Yelp says w\\u00e2 \",\n          \"Apple engineers deal lot confidential information leaking secrets land jail Xiaolang Zhang sentenced 120 days prison week convicted stealing Apple\\u00e2 s self driving car technology according Cal\\u00e2 \"\n        ],\n        \"semantic_type\": \"\",\n        \"description\": \"\"\n      }\n    }\n  ]\n}"
            }
          },
          "metadata": {},
          "execution_count": 9
        }
      ]
    },
    {
      "cell_type": "code",
      "source": [
        "texts = []\n",
        "texts = df['quotes_cleaned'].to_list()"
      ],
      "metadata": {
        "id": "4CN77LhJqSjl"
      },
      "execution_count": 10,
      "outputs": []
    },
    {
      "cell_type": "code",
      "source": [
        "len(texts)"
      ],
      "metadata": {
        "colab": {
          "base_uri": "https://localhost:8080/"
        },
        "id": "wkmKE3mEqr6m",
        "outputId": "967e2642-18ec-4fb0-820e-7251e219759e"
      },
      "execution_count": 11,
      "outputs": [
        {
          "output_type": "execute_result",
          "data": {
            "text/plain": [
              "394"
            ]
          },
          "metadata": {},
          "execution_count": 11
        }
      ]
    },
    {
      "cell_type": "markdown",
      "source": [
        "## Training the word2vec model"
      ],
      "metadata": {
        "id": "b6csoNeSqzAN"
      }
    },
    {
      "cell_type": "code",
      "source": [
        "from gensim.models import Word2Vec"
      ],
      "metadata": {
        "id": "xQ8h8AbaqtBw"
      },
      "execution_count": 12,
      "outputs": []
    },
    {
      "cell_type": "code",
      "source": [
        "sentences = [line.split() for line in texts]\n",
        "\n",
        "w2v =Word2Vec(sentences, window=5, workers=4, min_count=5)"
      ],
      "metadata": {
        "id": "RgW8DXzwrHHj"
      },
      "execution_count": 13,
      "outputs": []
    },
    {
      "cell_type": "code",
      "source": [
        "print(sentences[20:25])"
      ],
      "metadata": {
        "colab": {
          "base_uri": "https://localhost:8080/"
        },
        "id": "kK_UcymsrJ8M",
        "outputId": "ae354658-a122-487b-f798-705cb3cd008e"
      },
      "execution_count": 14,
      "outputs": [
        {
          "output_type": "stream",
          "name": "stdout",
          "text": [
            "[['The', 'US', 'probably', 'tip', 'economic', 'downturn', 'end', 'year', 'Wells', 'Fargo', 'says'], ['Ahead', 'release', 'book', 'Flip', 'Your', 'Life', 'Tarek', 'El', 'Moussa', 'spoke', 'Business', 'Insider', 'state', 'real', 'estate', 'California'], ['US', 'economic', 'growth', 'beat', 'expectations', 'fourth', 'quarter', 's', 'outpacing', 'world', 's', 'wealthiest', 'countries'], ['There', 's', 'powerful', 'seductive', 'narrative', 'soft', 'landing', 'seeing', 'data'], ['From', 'mergers', 'AI', 'EU', 's', 'aggressive', 'rule', 'making', 'hampers', 'ability', 'compete', 'China', 'U', 'S', 'Greg', 'Ip', 'writing', 'WSJ', 'These', 'humbling', 'times', 'Europe', 'The', 'continent', 'barely', 'escaped', 'recession', 'late', 'year', 'U', 'S', 'boomed', 'It', 'losing', 'ouâ']]\n"
          ]
        }
      ]
    },
    {
      "cell_type": "code",
      "source": [
        "words = list(w2v.wv.index_to_key)"
      ],
      "metadata": {
        "id": "QAXUw-XlrOvS"
      },
      "execution_count": 15,
      "outputs": []
    },
    {
      "cell_type": "code",
      "source": [
        "words[0:55]"
      ],
      "metadata": {
        "colab": {
          "base_uri": "https://localhost:8080/"
        },
        "id": "TWMN0iIerYBn",
        "outputId": "8e988360-dcd7-4855-ddf0-65bccd2e7af1"
      },
      "execution_count": 23,
      "outputs": [
        {
          "output_type": "execute_result",
          "data": {
            "text/plain": [
              "['s',\n",
              " 'The',\n",
              " 'AI',\n",
              " 'â',\n",
              " 'new',\n",
              " 'A',\n",
              " 'year',\n",
              " 'said',\n",
              " 'US',\n",
              " 't',\n",
              " 'Google',\n",
              " 'generative',\n",
              " 'Apple',\n",
              " 'company',\n",
              " 'In',\n",
              " 'S',\n",
              " 'data',\n",
              " 'economy',\n",
              " 'says',\n",
              " '2024',\n",
              " 'like',\n",
              " 'It',\n",
              " 'users',\n",
              " 'I',\n",
              " 'big',\n",
              " 'announced',\n",
              " 'called',\n",
              " 'world',\n",
              " 'recession',\n",
              " 'time',\n",
              " 'OpenAI',\n",
              " '3',\n",
              " 'technology',\n",
              " 'chatbot',\n",
              " 'according',\n",
              " 'companies',\n",
              " 'better',\n",
              " '2',\n",
              " 'This',\n",
              " 'If',\n",
              " 'U',\n",
              " 'market',\n",
              " 'week',\n",
              " 'feature',\n",
              " 'days',\n",
              " 'rates',\n",
              " 'Pro',\n",
              " 'Microsoft',\n",
              " 'years',\n",
              " 'use',\n",
              " 'app',\n",
              " 'features',\n",
              " 'future',\n",
              " 'half',\n",
              " 'Meta']"
            ]
          },
          "metadata": {},
          "execution_count": 23
        }
      ]
    },
    {
      "cell_type": "code",
      "source": [
        "print(len(words))"
      ],
      "metadata": {
        "colab": {
          "base_uri": "https://localhost:8080/"
        },
        "id": "f7US32WVrs9f",
        "outputId": "0cde6e27-cdbb-49fb-a726-298c81dbaa2e"
      },
      "execution_count": 17,
      "outputs": [
        {
          "output_type": "stream",
          "name": "stdout",
          "text": [
            "232\n"
          ]
        }
      ]
    },
    {
      "cell_type": "markdown",
      "source": [
        "### How the word vector looks like"
      ],
      "metadata": {
        "id": "DCea_JV4sAgd"
      }
    },
    {
      "cell_type": "code",
      "source": [
        "print( w2v.wv['Apple'] )"
      ],
      "metadata": {
        "colab": {
          "base_uri": "https://localhost:8080/"
        },
        "id": "uESEozjfrvxV",
        "outputId": "b0d1ee92-3ca1-43e9-c4c4-cebf2121c5f9"
      },
      "execution_count": 19,
      "outputs": [
        {
          "output_type": "stream",
          "name": "stdout",
          "text": [
            "[-4.16924851e-03 -1.62502704e-03  9.89177264e-03 -7.03477114e-03\n",
            "  5.35563938e-03 -3.55950720e-03  1.94074644e-03  1.91612728e-02\n",
            "  6.03737496e-03 -8.67814198e-03 -5.86200831e-03 -1.12480884e-02\n",
            " -1.02375653e-02  2.26519143e-04 -6.58311136e-03 -1.05463965e-02\n",
            "  1.64234149e-03 -2.36468064e-03  4.58799582e-03 -1.43743316e-02\n",
            " -4.89333970e-03  2.31238897e-03  1.86332280e-03  6.55245176e-03\n",
            "  2.90973927e-04  6.59807865e-03 -1.04075745e-02  6.94767060e-03\n",
            " -8.11570790e-03  9.14044213e-03 -2.38293153e-03  3.95667553e-03\n",
            "  5.16681280e-03 -1.68531504e-03 -1.02607319e-02 -1.18060515e-03\n",
            " -5.17949834e-03 -1.17476033e-02 -1.92888686e-03 -8.65022372e-03\n",
            " -3.17607331e-03  1.72284443e-03 -3.27117415e-03 -3.19913868e-03\n",
            " -3.55345686e-03 -9.42217465e-03  6.50751451e-03 -5.95593825e-03\n",
            " -2.30785203e-03  8.18432495e-03  8.18588398e-03 -8.82035121e-03\n",
            "  1.96489063e-03 -6.70998963e-03  3.50949733e-04  4.54903551e-04\n",
            " -3.57554783e-03  4.05698374e-04  3.91851179e-03  9.15840734e-03\n",
            " -8.80792551e-03 -5.02335653e-03  8.37268308e-03 -1.47953292e-03\n",
            " -9.31084994e-03  4.85971337e-03  1.16328737e-02  6.31084247e-03\n",
            " -1.39923608e-02  8.18723533e-03  4.08060709e-03  1.14313960e-02\n",
            "  8.82734265e-03 -6.53268164e-03  5.75704966e-03  4.78116004e-03\n",
            "  5.68473013e-03 -8.39315727e-03 -1.49325691e-02  1.06257177e-03\n",
            " -7.48022506e-03  8.19316972e-03 -6.39997609e-03  1.93259884e-02\n",
            " -8.27515032e-03  1.78101676e-04  1.21800555e-02  7.89555081e-04\n",
            " -9.16160468e-04 -4.19114876e-05  6.72343234e-03  2.27387040e-03\n",
            "  6.80304039e-03 -6.92913821e-03  1.40433740e-02  4.61173058e-03\n",
            "  1.19703123e-02  1.13097089e-03  9.91666131e-03  5.28111821e-03]\n"
          ]
        }
      ]
    },
    {
      "cell_type": "markdown",
      "source": [
        "### Check similarity scores between words"
      ],
      "metadata": {
        "id": "2yTIUhWfsF2y"
      }
    },
    {
      "cell_type": "code",
      "source": [
        "w2v.wv.similarity('generative', 'OpenAI')"
      ],
      "metadata": {
        "colab": {
          "base_uri": "https://localhost:8080/"
        },
        "id": "KGU_epEbrzO_",
        "outputId": "0296ccd7-b6ea-409b-ffd3-b3285aa90319"
      },
      "execution_count": 22,
      "outputs": [
        {
          "output_type": "execute_result",
          "data": {
            "text/plain": [
              "0.5528286"
            ]
          },
          "metadata": {},
          "execution_count": 22
        }
      ]
    },
    {
      "cell_type": "code",
      "source": [
        "w2v.wv.similarity('recession', 'economy')"
      ],
      "metadata": {
        "colab": {
          "base_uri": "https://localhost:8080/"
        },
        "id": "5dLBOtgJsbx4",
        "outputId": "1020e52e-9068-42d1-8438-ae6701e2504a"
      },
      "execution_count": 25,
      "outputs": [
        {
          "output_type": "execute_result",
          "data": {
            "text/plain": [
              "0.057826098"
            ]
          },
          "metadata": {},
          "execution_count": 25
        }
      ]
    },
    {
      "cell_type": "markdown",
      "source": [
        "### Check for similar words"
      ],
      "metadata": {
        "id": "HPqtOypktBV_"
      }
    },
    {
      "cell_type": "code",
      "source": [
        "print(w2v.wv.most_similar('recession'))"
      ],
      "metadata": {
        "colab": {
          "base_uri": "https://localhost:8080/"
        },
        "id": "YLNLVkmOssta",
        "outputId": "95074c2a-f5bf-444f-c6d5-51471cfc4dff"
      },
      "execution_count": 30,
      "outputs": [
        {
          "output_type": "stream",
          "name": "stdout",
          "text": [
            "[('s', 0.5396994948387146), ('year', 0.5118488669395447), ('early', 0.449627548456192), ('called', 0.44142916798591614), ('2024', 0.40057632327079773), ('AI', 0.39948153495788574), ('data', 0.3913474678993225), ('OpenAI', 0.3900616765022278), ('app', 0.37603759765625), ('â', 0.3758564591407776)]\n"
          ]
        }
      ]
    },
    {
      "cell_type": "markdown",
      "source": [
        "### Similarly, we can use the same function to find analogies of the form: if x:y, then z:?. Here we enter the known relation x,y in the positive parameter, and the term who’s analogy has to be found in the negative parameter."
      ],
      "metadata": {
        "id": "LaoJFwGVtg7Y"
      }
    },
    {
      "cell_type": "code",
      "source": [
        "print(w2v.wv.most_similar(positive=['Apple', 'company'], negative=['chatbot']))"
      ],
      "metadata": {
        "colab": {
          "base_uri": "https://localhost:8080/"
        },
        "id": "_GP-YJ0Mszy-",
        "outputId": "d3cb6220-cfc9-4dfe-db7e-95b18c6ec8f0"
      },
      "execution_count": 31,
      "outputs": [
        {
          "output_type": "stream",
          "name": "stdout",
          "text": [
            "[('new', 0.4516613781452179), ('2', 0.42468684911727905), ('s', 0.38788115978240967), ('OpenAI', 0.3867313265800476), ('The', 0.38657113909721375), ('â', 0.38648664951324463), ('looks', 0.37457913160324097), ('Netflix', 0.3687882125377655), ('deal', 0.35244229435920715), ('Federal', 0.35118046402931213)]\n"
          ]
        }
      ]
    }
  ]
}