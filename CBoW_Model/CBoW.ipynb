{
  "nbformat": 4,
  "nbformat_minor": 0,
  "metadata": {
    "colab": {
      "provenance": []
    },
    "kernelspec": {
      "name": "python3",
      "display_name": "Python 3"
    },
    "language_info": {
      "name": "python"
    }
  },
  "cells": [
    {
      "cell_type": "code",
      "execution_count": null,
      "metadata": {
        "id": "EQQMuz4d9iZb"
      },
      "outputs": [],
      "source": [
        "#import libraries\n",
        "from tensorflow import keras\n",
        "import tensorflow as tf\n",
        "import tensorflow_datasets as tfds\n",
        "import numpy as np\n",
        "from tensorflow.keras.preprocessing.text import Tokenizer\n",
        "from tensorflow.keras.preprocessing.sequence import pad_sequences"
      ]
    },
    {
      "cell_type": "code",
      "source": [
        "def generate_dictinoary_data(text):\n",
        "    word_to_index= dict()\n",
        "    index_to_word = dict()\n",
        "    corpus = []\n",
        "    count = 0\n",
        "    vocab_size = 0\n",
        "\n",
        "    for row in text:\n",
        "        for word in row.split():\n",
        "            word = word.lower()\n",
        "            corpus.append(word)\n",
        "            if word_to_index.get(word) == None:\n",
        "                word_to_index.update ( {word : count})\n",
        "                index_to_word.update ( {count : word })\n",
        "                count  += 1\n",
        "    vocab_size = len(word_to_index)\n",
        "    length_of_corpus = len(corpus)\n",
        "\n",
        "    return word_to_index,index_to_word,corpus,vocab_size,length_of_corpus"
      ],
      "metadata": {
        "id": "Jw2x1iJb9pMz"
      },
      "execution_count": null,
      "outputs": []
    },
    {
      "cell_type": "code",
      "source": [
        "corpuss = [\n",
        "    'I like deep learning',\n",
        "    'I enjoy natural language processing',\n",
        "    'I prefer Python over Java',\n",
        "    'Machine learning is fascinating',\n",
        "]\n",
        "word_to_index,index_to_word,corpus,vocab_size,length_of_corpus = generate_dictinoary_data(corpuss)"
      ],
      "metadata": {
        "id": "kzbF0cMkusel"
      },
      "execution_count": null,
      "outputs": []
    },
    {
      "cell_type": "markdown",
      "source": [
        "#### Word_to_index: A dictionary mapping each word to an integer value"
      ],
      "metadata": {
        "id": "Mmg6DIFrvVF7"
      }
    },
    {
      "cell_type": "code",
      "source": [
        "word_to_index"
      ],
      "metadata": {
        "colab": {
          "base_uri": "https://localhost:8080/"
        },
        "id": "_zO-EYvmu3XK",
        "outputId": "3db01087-2cf4-4d63-ecd6-ba27d8d99c68"
      },
      "execution_count": null,
      "outputs": [
        {
          "output_type": "execute_result",
          "data": {
            "text/plain": [
              "{'i': 0,\n",
              " 'like': 1,\n",
              " 'deep': 2,\n",
              " 'learning': 3,\n",
              " 'enjoy': 4,\n",
              " 'natural': 5,\n",
              " 'language': 6,\n",
              " 'processing': 7,\n",
              " 'prefer': 8,\n",
              " 'python': 9,\n",
              " 'over': 10,\n",
              " 'java': 11,\n",
              " 'machine': 12,\n",
              " 'is': 13,\n",
              " 'fascinating': 14}"
            ]
          },
          "metadata": {},
          "execution_count": 4
        }
      ]
    },
    {
      "cell_type": "markdown",
      "source": [
        "#### Index_to_Word: A dictionary mapping each integer value to a word"
      ],
      "metadata": {
        "id": "Xw_-Bvg7vY03"
      }
    },
    {
      "cell_type": "code",
      "source": [
        "index_to_word"
      ],
      "metadata": {
        "colab": {
          "base_uri": "https://localhost:8080/"
        },
        "id": "qxfeR8QYvJ7Z",
        "outputId": "da8c2ab1-6ce7-4623-87fb-632c56f96468"
      },
      "execution_count": null,
      "outputs": [
        {
          "output_type": "execute_result",
          "data": {
            "text/plain": [
              "{0: 'i',\n",
              " 1: 'like',\n",
              " 2: 'deep',\n",
              " 3: 'learning',\n",
              " 4: 'enjoy',\n",
              " 5: 'natural',\n",
              " 6: 'language',\n",
              " 7: 'processing',\n",
              " 8: 'prefer',\n",
              " 9: 'python',\n",
              " 10: 'over',\n",
              " 11: 'java',\n",
              " 12: 'machine',\n",
              " 13: 'is',\n",
              " 14: 'fascinating'}"
            ]
          },
          "metadata": {},
          "execution_count": 5
        }
      ]
    },
    {
      "cell_type": "markdown",
      "source": [
        "Vocab_Size:  Number of unique words in the corpus."
      ],
      "metadata": {
        "id": "d7AxtSZQvgIg"
      }
    },
    {
      "cell_type": "code",
      "source": [
        "vocab_size"
      ],
      "metadata": {
        "colab": {
          "base_uri": "https://localhost:8080/"
        },
        "id": "3rl1KwzpvMX0",
        "outputId": "7807a31a-2785-4e7f-ef07-fb3ee19f8342"
      },
      "execution_count": null,
      "outputs": [
        {
          "output_type": "execute_result",
          "data": {
            "text/plain": [
              "15"
            ]
          },
          "metadata": {},
          "execution_count": 6
        }
      ]
    },
    {
      "cell_type": "markdown",
      "source": [
        "Corpus: Given text consisting of all the words"
      ],
      "metadata": {
        "id": "J1D0T9u4vphk"
      }
    },
    {
      "cell_type": "code",
      "source": [
        "length_of_corpus"
      ],
      "metadata": {
        "colab": {
          "base_uri": "https://localhost:8080/"
        },
        "id": "SYmKuMuuvOOo",
        "outputId": "bd0e7f51-3f5f-4294-fa74-5c411f24e823"
      },
      "execution_count": null,
      "outputs": [
        {
          "output_type": "execute_result",
          "data": {
            "text/plain": [
              "18"
            ]
          },
          "metadata": {},
          "execution_count": 7
        }
      ]
    },
    {
      "cell_type": "code",
      "source": [
        "###########################################################################################################################################################################"
      ],
      "metadata": {
        "id": "kNyEVZoYAq1H"
      },
      "execution_count": null,
      "outputs": []
    },
    {
      "cell_type": "markdown",
      "source": [
        "#### Function to generate context-target pairs\n"
      ],
      "metadata": {
        "id": "KHQjmRwR1R9O"
      }
    },
    {
      "cell_type": "code",
      "source": [
        "def generate_context_target_pairs(corpus, window_size):\n",
        "    pairs = []\n",
        "    con=[]\n",
        "    tar=[]\n",
        "    for sentence in corpus:\n",
        "        tokens = sentence.split()\n",
        "        for i in range(len(tokens)):\n",
        "            target = tokens[i]\n",
        "            context = [tokens[j] for j in range(i - window_size, i + window_size + 1) if i != j and j >= 0 and j < len(tokens)]\n",
        "            pairs.append((context, target))\n",
        "            con.append(context)\n",
        "            tar.append(target)\n",
        "    return pairs, con, tar"
      ],
      "metadata": {
        "id": "u3wvSa9P2uhB"
      },
      "execution_count": null,
      "outputs": []
    },
    {
      "cell_type": "code",
      "source": [
        "corpus = [\n",
        "    'I like deep learning',\n",
        "    'I enjoy natural language processing',\n",
        "    'I prefer Python over Java',\n",
        "    'Machine learning is fascinating',\n",
        "]\n",
        "context_target_pairs, X, targets = generate_context_target_pairs(corpus, window_size=2)"
      ],
      "metadata": {
        "id": "2Jx_M8_L2ABx"
      },
      "execution_count": null,
      "outputs": []
    },
    {
      "cell_type": "code",
      "source": [
        "print(context_target_pairs)"
      ],
      "metadata": {
        "colab": {
          "base_uri": "https://localhost:8080/"
        },
        "id": "lwlwFPD9548r",
        "outputId": "b6ea8cf4-bcff-4ff7-9f3c-d73996a17384"
      },
      "execution_count": null,
      "outputs": [
        {
          "output_type": "stream",
          "name": "stdout",
          "text": [
            "[(['like', 'deep'], 'I'), (['I', 'deep', 'learning'], 'like'), (['I', 'like', 'learning'], 'deep'), (['like', 'deep'], 'learning'), (['enjoy', 'natural'], 'I'), (['I', 'natural', 'language'], 'enjoy'), (['I', 'enjoy', 'language', 'processing'], 'natural'), (['enjoy', 'natural', 'processing'], 'language'), (['natural', 'language'], 'processing'), (['prefer', 'Python'], 'I'), (['I', 'Python', 'over'], 'prefer'), (['I', 'prefer', 'over', 'Java'], 'Python'), (['prefer', 'Python', 'Java'], 'over'), (['Python', 'over'], 'Java'), (['learning', 'is'], 'Machine'), (['Machine', 'is', 'fascinating'], 'learning'), (['Machine', 'learning', 'fascinating'], 'is'), (['learning', 'is'], 'fascinating')]\n"
          ]
        }
      ]
    },
    {
      "cell_type": "code",
      "source": [
        "X"
      ],
      "metadata": {
        "colab": {
          "base_uri": "https://localhost:8080/"
        },
        "id": "BH32a-UQA5JA",
        "outputId": "852b5798-7381-4150-8554-2a7f723019fd"
      },
      "execution_count": null,
      "outputs": [
        {
          "output_type": "execute_result",
          "data": {
            "text/plain": [
              "[['like', 'deep'],\n",
              " ['I', 'deep', 'learning'],\n",
              " ['I', 'like', 'learning'],\n",
              " ['like', 'deep'],\n",
              " ['enjoy', 'natural'],\n",
              " ['I', 'natural', 'language'],\n",
              " ['I', 'enjoy', 'language', 'processing'],\n",
              " ['enjoy', 'natural', 'processing'],\n",
              " ['natural', 'language'],\n",
              " ['prefer', 'Python'],\n",
              " ['I', 'Python', 'over'],\n",
              " ['I', 'prefer', 'over', 'Java'],\n",
              " ['prefer', 'Python', 'Java'],\n",
              " ['Python', 'over'],\n",
              " ['learning', 'is'],\n",
              " ['Machine', 'is', 'fascinating'],\n",
              " ['Machine', 'learning', 'fascinating'],\n",
              " ['learning', 'is']]"
            ]
          },
          "metadata": {},
          "execution_count": 31
        }
      ]
    },
    {
      "cell_type": "code",
      "source": [
        "targets"
      ],
      "metadata": {
        "colab": {
          "base_uri": "https://localhost:8080/"
        },
        "id": "cSgHdybPA7mW",
        "outputId": "0639644a-eb90-4d99-adbe-dc7b07f02aaa"
      },
      "execution_count": null,
      "outputs": [
        {
          "output_type": "execute_result",
          "data": {
            "text/plain": [
              "['I',\n",
              " 'like',\n",
              " 'deep',\n",
              " 'learning',\n",
              " 'I',\n",
              " 'enjoy',\n",
              " 'natural',\n",
              " 'language',\n",
              " 'processing',\n",
              " 'I',\n",
              " 'prefer',\n",
              " 'Python',\n",
              " 'over',\n",
              " 'Java',\n",
              " 'Machine',\n",
              " 'learning',\n",
              " 'is',\n",
              " 'fascinating']"
            ]
          },
          "metadata": {},
          "execution_count": 34
        }
      ]
    },
    {
      "cell_type": "code",
      "source": [
        "# Tokenize and create vocabulary\n",
        "tokenizer = Tokenizer()\n",
        "tokenizer.fit_on_texts(corpus)\n",
        "word_indexv1 = tokenizer.word_index\n",
        "vocab_sizev1 = len(word_indexv1) + 1"
      ],
      "metadata": {
        "id": "spFjPV8G8GA0"
      },
      "execution_count": null,
      "outputs": []
    },
    {
      "cell_type": "markdown",
      "source": [
        "Create Training data"
      ],
      "metadata": {
        "id": "Uznijq50_pVl"
      }
    },
    {
      "cell_type": "code",
      "source": [
        "context_window = 2\n",
        "def generate_data(corpus, context_window, tokenizer):\n",
        "    sequences = tokenizer.texts_to_sequences(corpus)\n",
        "    X, y = [], []\n",
        "    for sequence in sequences:\n",
        "        for i in range(context_window, len(sequence) - context_window):\n",
        "            context = sequence[i - context_window : i] + sequence[i + 1 : i + context_window + 1]\n",
        "            target = sequence[i]\n",
        "            X.append(context)\n",
        "            y.append(target)\n",
        "    return np.array(X), np.array(y)\n",
        "\n",
        "X_train, y_train = generate_data(corpus, context_window, tokenizer)"
      ],
      "metadata": {
        "id": "8oV5Ycrn56Z4"
      },
      "execution_count": null,
      "outputs": []
    },
    {
      "cell_type": "markdown",
      "source": [
        "#### Set the model parameters"
      ],
      "metadata": {
        "id": "WpBcQU--_lJn"
      }
    },
    {
      "cell_type": "markdown",
      "source": [
        "Reference: https://github.com/microsoft/AI-For-Beginners/blob/main/lessons/5-NLP/15-LanguageModeling/CBoW-TF.ipynb\n",
        "\n",
        "\n",
        "CBoW learns to predict a word based on the\n",
        " neighboring words. For example, when\n",
        ", we will get the following pairs from the sentence I like to train networks: (like,I), (I, like), (to, like), (like,to), (train,to), (to, train), (networks, train), (train,networks). Here, first word is the neighboring word used as an input, and second word is the one we are predicting.\n",
        "\n",
        "To build a network to predict next word, we will need to supply neighboring word as input, and get word number as output. The architecture of CBoW network is the following:\n",
        "\n",
        "Input word is passed through the embedding layer. This very embedding layer would be our Word2Vec embedding, thus we will define it separately as embedder variable. We will use embedding size = 30 in this example, even though you might want to experiment with higher dimensions (real word2vec has 300)\n",
        "Embedding vector would then be passed to a dense layer that will predict output word. Thus it has the vocab_size neurons.\n",
        "Embedding layer in Keras automatically knows how to convert numeric input into one-hot encoding, so that we do not have to one-hot-encode input word separately. We specify input_length=1 to indicate that we want just one word in the input sequence - normally embedding layer is designed to work with longer sequences.\n",
        "\n",
        "For the output, if we use sparse_categorical_crossentropy as loss function, we would also have to provide just word numbers as expected results, without one-hot encoding."
      ],
      "metadata": {
        "id": "oM_m1pWj_ufR"
      }
    },
    {
      "cell_type": "code",
      "source": [
        "embedding_dim = 100\n",
        "\n",
        "model = tf.keras.Sequential([\n",
        "    tf.keras.layers.Embedding(input_dim=vocab_size, output_dim=embedding_dim, input_length=context_window*2),\n",
        "    tf.keras.layers.GlobalAveragePooling1D(),\n",
        "    tf.keras.layers.Dense(vocab_size, activation='softmax')\n",
        "])\n",
        "\n",
        "model.compile(loss='sparse_categorical_crossentropy', optimizer='adam')"
      ],
      "metadata": {
        "id": "fbIZU3Up0t6L"
      },
      "execution_count": null,
      "outputs": []
    },
    {
      "cell_type": "markdown",
      "source": [
        "#### Compile the model"
      ],
      "metadata": {
        "id": "R2ubEU9T_ieh"
      }
    },
    {
      "cell_type": "code",
      "source": [
        "epochs = 50\n",
        "batch_size = 16\n",
        "model.fit(X_train, y_train, epochs=epochs, batch_size=batch_size)"
      ],
      "metadata": {
        "id": "lxY8-Cos35N9"
      },
      "execution_count": null,
      "outputs": []
    },
    {
      "cell_type": "code",
      "source": [
        "model.save_weights('cbow_weights.h5')\n",
        "# Load the pre-trained weights\n",
        "model.load_weights('cbow_weights.h5')"
      ],
      "metadata": {
        "id": "dRirNn2X9k9v"
      },
      "execution_count": null,
      "outputs": []
    },
    {
      "cell_type": "markdown",
      "source": [
        "#### Visualize"
      ],
      "metadata": {
        "id": "SFzm6Fd3_d3i"
      }
    },
    {
      "cell_type": "code",
      "source": [
        "import matplotlib.pyplot as plt\n",
        "from sklearn.decomposition import PCA\n",
        "\n",
        "embeddings = model.get_weights()[0]\n",
        "\n",
        "pca = PCA(n_components=2)\n",
        "reduced_embeddings = pca.fit_transform(embeddings)\n",
        "\n",
        "# Visualize the embeddings\n",
        "plt.figure(figsize=(15, 10))\n",
        "for i, word in enumerate(tokenizer.word_index.keys()):\n",
        "    x, y = reduced_embeddings[i]\n",
        "    plt.scatter(x, y)\n",
        "    plt.annotate(word, xy=(x, y), xytext=(5, 2),\n",
        "                 textcoords='offset points',\n",
        "                 ha='right', va='bottom')\n",
        "plt.show()"
      ],
      "metadata": {
        "colab": {
          "base_uri": "https://localhost:8080/",
          "height": 830
        },
        "id": "mLJf8IgB-vvu",
        "outputId": "b7c5efb4-cca0-4722-bd5f-af2364a6cf58"
      },
      "execution_count": null,
      "outputs": [
        {
          "output_type": "display_data",
          "data": {
            "text/plain": [
              "<Figure size 1500x1000 with 1 Axes>"
            ],
            "image/png": "[encoded data removed]"
          },
          "metadata": {}
        }
      ]
    }
  ]
}